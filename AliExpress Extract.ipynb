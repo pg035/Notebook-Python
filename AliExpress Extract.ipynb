{
 "cells": [
  {
   "cell_type": "code",
   "execution_count": null,
   "metadata": {},
   "outputs": [],
   "source": [
    "import numpy as np\n",
    "import pandas as pd\n",
    "import requests\n",
    "import seaborn as sns\n",
    "import matplotlib.pyplot as plt\n",
    "from scipy import stats\n",
    "%matplotlib inline"
   ]
  },
  {
   "cell_type": "markdown",
   "metadata": {},
   "source": [
    "# API Extractor"
   ]
  },
  {
   "cell_type": "code",
   "execution_count": null,
   "metadata": {},
   "outputs": [],
   "source": [
    "list_pdt = '32944479155 32796623645'.split()"
   ]
  },
  {
   "cell_type": "code",
   "execution_count": null,
   "metadata": {},
   "outputs": [],
   "source": [
    "pdt_details = pd.DataFrame()\n",
    "for pdt in list_pdt:\n",
    "    url = 'https://fr.aliexpress.com/item/'+str(pdt)+'.html'\n",
    "    response = requests.post(\n",
    "    'https://autoextract.scrapinghub.com/v1/extract',\n",
    "    auth=('XypkshkY3gyXqhPkjNs4cLsi', ''),\n",
    "    json=[{'url': url, 'pageType': 'product'}])\n",
    "    detail = response.json()[0]['product']\n",
    "    name = detail['name']\n",
    "    img = '=image(\"' + detail['mainImage'] + '\")'\n",
    "    price = detail['offers'][0]['price']\n",
    "    try:\n",
    "        review = detail['aggregateRating']['reviewCount']\n",
    "    except TypeError:\n",
    "        review = \"NA\"\n",
    "    pdt_add = pd.DataFrame([pdt,url,name,img,price,review])\n",
    "    pdt_details = pdt_details.append(pdt_add.transpose(),ignore_index=True)\n",
    "    print(pdt_details.index)\n",
    "    \n",
    "pdt_details.columns=['pdt_num','url','name','img','price','num_rev']\n",
    "pdt_details.set_index('pdt_num',inplace=True) \n",
    "pdt_details.to_csv('list.csv', sep=';')"
   ]
  }
 ],
 "metadata": {
  "kernelspec": {
   "display_name": "Python 3",
   "language": "python",
   "name": "python3"
  },
  "language_info": {
   "codemirror_mode": {
    "name": "ipython",
    "version": 3
   },
   "file_extension": ".py",
   "mimetype": "text/x-python",
   "name": "python",
   "nbconvert_exporter": "python",
   "pygments_lexer": "ipython3",
   "version": "3.7.3"
  }
 },
 "nbformat": 4,
 "nbformat_minor": 2
}
