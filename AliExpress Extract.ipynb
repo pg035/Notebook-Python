{
 "cells": [
  {
   "cell_type": "code",
   "execution_count": 24,
   "metadata": {},
   "outputs": [],
   "source": [
    "import numpy as np\n",
    "import pandas as pd\n",
    "import requests\n",
    "import seaborn as sns\n",
    "import matplotlib.pyplot as plt\n",
    "from scipy import stats\n",
    "%matplotlib inline"
   ]
  },
  {
   "cell_type": "markdown",
   "metadata": {},
   "source": [
    "# API Extractor"
   ]
  },
  {
   "cell_type": "code",
   "execution_count": 40,
   "metadata": {},
   "outputs": [],
   "source": [
    "list_pdt = '1000005615056 32246438877 32326797297 32484877995 32512438769 32617776767 32750559006 32759183660 32759966407 32763061121 32767814646 32786713550 32787442528 32796623645 32796882691 32800629836 32801859905 32811624800 32812840244 32816287122 32817200623 32819368064 32821132342 32830671122 32831167046 32831573474 32832558202 32834050973 32834344200 32836333803 32838410742 32842957321 32845177924 32845452825 32848647667 32848967339 32849966311 32854490044 32855884970 32858282232 32859669816 32861110964 32866690280 32866808905 32866950122 32873399675 32873404338 32878604999 32880060048 32880407939 32881187770 32887516198 32891967899 32896381821 32896415321 32898725402 32903244979 32906958528 32917158177 32917567265 32919644718 32925215054 32944479155 32944732300 32945584784 32949414488 32949522637 32951708080 32952758183 32952968420 32958467710 32958923985 32963646039 32964650077'.split()"
   ]
  },
  {
   "cell_type": "code",
   "execution_count": 42,
   "metadata": {},
   "outputs": [
    {
     "name": "stdout",
     "output_type": "stream",
     "text": [
      "RangeIndex(start=0, stop=1, step=1)\n",
      "RangeIndex(start=0, stop=2, step=1)\n",
      "RangeIndex(start=0, stop=3, step=1)\n",
      "RangeIndex(start=0, stop=4, step=1)\n",
      "RangeIndex(start=0, stop=5, step=1)\n",
      "RangeIndex(start=0, stop=6, step=1)\n",
      "RangeIndex(start=0, stop=7, step=1)\n",
      "RangeIndex(start=0, stop=8, step=1)\n",
      "RangeIndex(start=0, stop=9, step=1)\n",
      "RangeIndex(start=0, stop=10, step=1)\n",
      "RangeIndex(start=0, stop=11, step=1)\n",
      "RangeIndex(start=0, stop=12, step=1)\n",
      "RangeIndex(start=0, stop=13, step=1)\n",
      "RangeIndex(start=0, stop=14, step=1)\n",
      "RangeIndex(start=0, stop=15, step=1)\n",
      "RangeIndex(start=0, stop=16, step=1)\n",
      "RangeIndex(start=0, stop=17, step=1)\n",
      "RangeIndex(start=0, stop=18, step=1)\n",
      "RangeIndex(start=0, stop=19, step=1)\n",
      "RangeIndex(start=0, stop=20, step=1)\n",
      "RangeIndex(start=0, stop=21, step=1)\n",
      "RangeIndex(start=0, stop=22, step=1)\n",
      "RangeIndex(start=0, stop=23, step=1)\n",
      "RangeIndex(start=0, stop=24, step=1)\n",
      "RangeIndex(start=0, stop=25, step=1)\n",
      "RangeIndex(start=0, stop=26, step=1)\n",
      "RangeIndex(start=0, stop=27, step=1)\n",
      "RangeIndex(start=0, stop=28, step=1)\n",
      "RangeIndex(start=0, stop=29, step=1)\n",
      "RangeIndex(start=0, stop=30, step=1)\n",
      "RangeIndex(start=0, stop=31, step=1)\n",
      "RangeIndex(start=0, stop=32, step=1)\n",
      "RangeIndex(start=0, stop=33, step=1)\n",
      "RangeIndex(start=0, stop=34, step=1)\n",
      "RangeIndex(start=0, stop=35, step=1)\n",
      "RangeIndex(start=0, stop=36, step=1)\n",
      "RangeIndex(start=0, stop=37, step=1)\n",
      "RangeIndex(start=0, stop=38, step=1)\n",
      "RangeIndex(start=0, stop=39, step=1)\n",
      "RangeIndex(start=0, stop=40, step=1)\n",
      "RangeIndex(start=0, stop=41, step=1)\n",
      "RangeIndex(start=0, stop=42, step=1)\n",
      "RangeIndex(start=0, stop=43, step=1)\n",
      "RangeIndex(start=0, stop=44, step=1)\n",
      "RangeIndex(start=0, stop=45, step=1)\n",
      "RangeIndex(start=0, stop=46, step=1)\n",
      "RangeIndex(start=0, stop=47, step=1)\n",
      "RangeIndex(start=0, stop=48, step=1)\n",
      "RangeIndex(start=0, stop=49, step=1)\n",
      "RangeIndex(start=0, stop=50, step=1)\n",
      "RangeIndex(start=0, stop=51, step=1)\n",
      "RangeIndex(start=0, stop=52, step=1)\n",
      "RangeIndex(start=0, stop=53, step=1)\n",
      "RangeIndex(start=0, stop=54, step=1)\n",
      "RangeIndex(start=0, stop=55, step=1)\n",
      "RangeIndex(start=0, stop=56, step=1)\n",
      "RangeIndex(start=0, stop=57, step=1)\n",
      "RangeIndex(start=0, stop=58, step=1)\n",
      "RangeIndex(start=0, stop=59, step=1)\n",
      "RangeIndex(start=0, stop=60, step=1)\n",
      "RangeIndex(start=0, stop=61, step=1)\n",
      "RangeIndex(start=0, stop=62, step=1)\n",
      "RangeIndex(start=0, stop=63, step=1)\n",
      "RangeIndex(start=0, stop=64, step=1)\n",
      "RangeIndex(start=0, stop=65, step=1)\n",
      "RangeIndex(start=0, stop=66, step=1)\n",
      "RangeIndex(start=0, stop=67, step=1)\n",
      "RangeIndex(start=0, stop=68, step=1)\n",
      "RangeIndex(start=0, stop=69, step=1)\n",
      "RangeIndex(start=0, stop=70, step=1)\n",
      "RangeIndex(start=0, stop=71, step=1)\n",
      "RangeIndex(start=0, stop=72, step=1)\n",
      "RangeIndex(start=0, stop=73, step=1)\n",
      "RangeIndex(start=0, stop=74, step=1)\n"
     ]
    }
   ],
   "source": [
    "pdt_details = pd.DataFrame()\n",
    "for pdt in list_pdt:\n",
    "    url = 'https://fr.aliexpress.com/item/'+str(pdt)+'.html'\n",
    "    response = requests.post(\n",
    "    'https://autoextract.scrapinghub.com/v1/extract',\n",
    "    auth=('XypkshkY3gyXqhPkjNs4cLsi', ''),\n",
    "    json=[{'url': url, 'pageType': 'product'}])\n",
    "    detail = response.json()[0]['product']\n",
    "    name = detail['name']\n",
    "    img = '=image(\"' + detail['mainImage'] + '\")'\n",
    "    url_link = '=hyperlink(\"https://fr.aliexpress.com/item/'+str(pdt)+'.html\";\"' + pdt + '\")'\n",
    "    try:\n",
    "        store = detail['breadcrumbs'][0]['link'].split('/')[4]\n",
    "    except TypeError:\n",
    "        store = \"NA\"\n",
    "    price = detail['offers'][0]['price']\n",
    "    try:\n",
    "        review = detail['aggregateRating']['reviewCount']\n",
    "    except TypeError:\n",
    "        review = \"NA\"\n",
    "    pdt_add = pd.DataFrame([pdt,url_link,name,img,price,review,store])\n",
    "    pdt_details = pdt_details.append(pdt_add.transpose(),ignore_index=True)\n",
    "    print(pdt_details.index)\n",
    "    \n",
    "pdt_details.columns=['pdt_num','url','name','img','price','num_rev','store']\n",
    "pdt_details.set_index('pdt_num',inplace=True) \n",
    "pdt_details.to_csv('list.csv', sep=';')"
   ]
  },
  {
   "cell_type": "code",
   "execution_count": 52,
   "metadata": {},
   "outputs": [],
   "source": [
    "store_count = pdt_details.groupby(\"store\").count()"
   ]
  },
  {
   "cell_type": "code",
   "execution_count": 58,
   "metadata": {},
   "outputs": [
    {
     "data": {
      "text/html": [
       "<div>\n",
       "<style scoped>\n",
       "    .dataframe tbody tr th:only-of-type {\n",
       "        vertical-align: middle;\n",
       "    }\n",
       "\n",
       "    .dataframe tbody tr th {\n",
       "        vertical-align: top;\n",
       "    }\n",
       "\n",
       "    .dataframe thead th {\n",
       "        text-align: right;\n",
       "    }\n",
       "</style>\n",
       "<table border=\"1\" class=\"dataframe\">\n",
       "  <thead>\n",
       "    <tr style=\"text-align: right;\">\n",
       "      <th></th>\n",
       "      <th>url</th>\n",
       "      <th>name</th>\n",
       "      <th>img</th>\n",
       "      <th>price</th>\n",
       "      <th>num_rev</th>\n",
       "    </tr>\n",
       "    <tr>\n",
       "      <th>store</th>\n",
       "      <th></th>\n",
       "      <th></th>\n",
       "      <th></th>\n",
       "      <th></th>\n",
       "      <th></th>\n",
       "    </tr>\n",
       "  </thead>\n",
       "  <tbody>\n",
       "    <tr>\n",
       "      <th>1440057</th>\n",
       "      <td>3</td>\n",
       "      <td>3</td>\n",
       "      <td>3</td>\n",
       "      <td>3</td>\n",
       "      <td>3</td>\n",
       "    </tr>\n",
       "    <tr>\n",
       "      <th>2662211</th>\n",
       "      <td>4</td>\n",
       "      <td>4</td>\n",
       "      <td>4</td>\n",
       "      <td>4</td>\n",
       "      <td>4</td>\n",
       "    </tr>\n",
       "    <tr>\n",
       "      <th>328497</th>\n",
       "      <td>3</td>\n",
       "      <td>3</td>\n",
       "      <td>3</td>\n",
       "      <td>3</td>\n",
       "      <td>3</td>\n",
       "    </tr>\n",
       "    <tr>\n",
       "      <th>4001007</th>\n",
       "      <td>3</td>\n",
       "      <td>3</td>\n",
       "      <td>3</td>\n",
       "      <td>3</td>\n",
       "      <td>3</td>\n",
       "    </tr>\n",
       "    <tr>\n",
       "      <th>NA</th>\n",
       "      <td>16</td>\n",
       "      <td>16</td>\n",
       "      <td>16</td>\n",
       "      <td>16</td>\n",
       "      <td>16</td>\n",
       "    </tr>\n",
       "  </tbody>\n",
       "</table>\n",
       "</div>"
      ],
      "text/plain": [
       "         url  name  img  price  num_rev\n",
       "store                                  \n",
       "1440057    3     3    3      3        3\n",
       "2662211    4     4    4      4        4\n",
       "328497     3     3    3      3        3\n",
       "4001007    3     3    3      3        3\n",
       "NA        16    16   16     16       16"
      ]
     },
     "execution_count": 58,
     "metadata": {},
     "output_type": "execute_result"
    }
   ],
   "source": [
    "store_count[store_count[\"url\"]>2]"
   ]
  },
  {
   "cell_type": "code",
   "execution_count": null,
   "metadata": {},
   "outputs": [],
   "source": []
  },
  {
   "cell_type": "code",
   "execution_count": null,
   "metadata": {},
   "outputs": [],
   "source": []
  },
  {
   "cell_type": "code",
   "execution_count": null,
   "metadata": {},
   "outputs": [],
   "source": []
  },
  {
   "cell_type": "code",
   "execution_count": null,
   "metadata": {},
   "outputs": [],
   "source": []
  },
  {
   "cell_type": "code",
   "execution_count": null,
   "metadata": {},
   "outputs": [],
   "source": []
  },
  {
   "cell_type": "code",
   "execution_count": null,
   "metadata": {},
   "outputs": [],
   "source": []
  },
  {
   "cell_type": "code",
   "execution_count": null,
   "metadata": {},
   "outputs": [],
   "source": []
  },
  {
   "cell_type": "code",
   "execution_count": null,
   "metadata": {},
   "outputs": [],
   "source": []
  },
  {
   "cell_type": "code",
   "execution_count": null,
   "metadata": {},
   "outputs": [],
   "source": []
  },
  {
   "cell_type": "code",
   "execution_count": null,
   "metadata": {},
   "outputs": [],
   "source": []
  },
  {
   "cell_type": "code",
   "execution_count": null,
   "metadata": {},
   "outputs": [],
   "source": []
  },
  {
   "cell_type": "code",
   "execution_count": null,
   "metadata": {},
   "outputs": [],
   "source": []
  },
  {
   "cell_type": "code",
   "execution_count": null,
   "metadata": {},
   "outputs": [],
   "source": []
  },
  {
   "cell_type": "code",
   "execution_count": null,
   "metadata": {},
   "outputs": [],
   "source": []
  }
 ],
 "metadata": {
  "kernelspec": {
   "display_name": "Python 3",
   "language": "python",
   "name": "python3"
  },
  "language_info": {
   "codemirror_mode": {
    "name": "ipython",
    "version": 3
   },
   "file_extension": ".py",
   "mimetype": "text/x-python",
   "name": "python",
   "nbconvert_exporter": "python",
   "pygments_lexer": "ipython3",
   "version": "3.7.3"
  }
 },
 "nbformat": 4,
 "nbformat_minor": 2
}
