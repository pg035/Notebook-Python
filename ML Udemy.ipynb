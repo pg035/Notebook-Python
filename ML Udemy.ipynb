{
 "cells": [
  {
   "cell_type": "raw",
   "metadata": {},
   "source": [
    "pip install numpy pandas seaborn matplotlib scipy plotly sklearn statsmodels"
   ]
  },
  {
   "cell_type": "code",
   "execution_count": null,
   "metadata": {},
   "outputs": [],
   "source": [
    "import numpy as np\n",
    "import pandas as pd\n",
    "import seaborn as sns\n",
    "import matplotlib.pyplot as plt\n",
    "from scipy import stats\n",
    "%matplotlib inline"
   ]
  },
  {
   "cell_type": "code",
   "execution_count": null,
   "metadata": {},
   "outputs": [],
   "source": [
    "from sklearn.linear_model import LinearRegression\n",
    "from sklearn.linear_model import RANSACRegressor\n",
    "from sklearn.model_selection import train_test_split\n",
    "from sklearn.metrics import mean_squared_error\n",
    "from sklearn.metrics import r2_score\n",
    "from sklearn.preprocessing import StandardScaler  \n",
    "from sklearn.pipeline import make_pipeline\n",
    "from sklearn.preprocessing import PolynomialFeatures\n",
    "\n",
    "import statsmodels.api as sm\n",
    "import statsmodels.formula.api as smf"
   ]
  },
  {
   "cell_type": "code",
   "execution_count": null,
   "metadata": {},
   "outputs": [],
   "source": []
  },
  {
   "cell_type": "markdown",
   "metadata": {},
   "source": [
    "https://github.com/mwaskom/seaborn-data\n",
    "For others dataset"
   ]
  },
  {
   "cell_type": "code",
   "execution_count": null,
   "metadata": {},
   "outputs": [],
   "source": [
    "df = sns.load_dataset(\"iris\")"
   ]
  },
  {
   "cell_type": "code",
   "execution_count": null,
   "metadata": {},
   "outputs": [],
   "source": [
    "df.head(5)"
   ]
  },
  {
   "cell_type": "code",
   "execution_count": null,
   "metadata": {},
   "outputs": [],
   "source": [
    "df.columns"
   ]
  },
  {
   "cell_type": "code",
   "execution_count": null,
   "metadata": {},
   "outputs": [],
   "source": [
    "df.describe()"
   ]
  },
  {
   "cell_type": "code",
   "execution_count": null,
   "metadata": {},
   "outputs": [],
   "source": [
    "df.info()"
   ]
  },
  {
   "cell_type": "code",
   "execution_count": null,
   "metadata": {},
   "outputs": [],
   "source": [
    "df.mean()"
   ]
  },
  {
   "cell_type": "code",
   "execution_count": null,
   "metadata": {},
   "outputs": [],
   "source": [
    "df.std()"
   ]
  },
  {
   "cell_type": "code",
   "execution_count": null,
   "metadata": {},
   "outputs": [],
   "source": [
    "df.std()/df.mean()"
   ]
  },
  {
   "cell_type": "code",
   "execution_count": null,
   "metadata": {},
   "outputs": [],
   "source": [
    "stats.zscore(df.sepal_length)"
   ]
  },
  {
   "cell_type": "code",
   "execution_count": null,
   "metadata": {},
   "outputs": [],
   "source": [
    "sns.pairplot(df, hue=\"species\", height=2, aspect=1)"
   ]
  },
  {
   "cell_type": "code",
   "execution_count": null,
   "metadata": {},
   "outputs": [],
   "source": [
    "df.hist()\n",
    "plt.show()"
   ]
  },
  {
   "cell_type": "code",
   "execution_count": null,
   "metadata": {},
   "outputs": [],
   "source": [
    "plt.figure(figsize = (10, 8))\n",
    "plt.scatter(df.petal_length, df.petal_width);"
   ]
  },
  {
   "cell_type": "markdown",
   "metadata": {},
   "source": [
    "# ML LR"
   ]
  },
  {
   "cell_type": "code",
   "execution_count": null,
   "metadata": {},
   "outputs": [],
   "source": [
    "LRModel = LinearRegression(fit_intercept=True)"
   ]
  },
  {
   "cell_type": "code",
   "execution_count": null,
   "metadata": {},
   "outputs": [],
   "source": [
    "LRModel"
   ]
  },
  {
   "cell_type": "code",
   "execution_count": null,
   "metadata": {},
   "outputs": [],
   "source": [
    "RSCModel = RANSACRegressor()"
   ]
  },
  {
   "cell_type": "code",
   "execution_count": null,
   "metadata": {},
   "outputs": [],
   "source": [
    "RSCModel"
   ]
  },
  {
   "cell_type": "code",
   "execution_count": null,
   "metadata": {},
   "outputs": [],
   "source": [
    "X = df.petal_length.values.reshape(-1,1)"
   ]
  },
  {
   "cell_type": "code",
   "execution_count": null,
   "metadata": {},
   "outputs": [],
   "source": [
    "y= df.petal_width.values"
   ]
  },
  {
   "cell_type": "code",
   "execution_count": null,
   "metadata": {},
   "outputs": [],
   "source": [
    "LRModel.fit(X, y)"
   ]
  },
  {
   "cell_type": "code",
   "execution_count": null,
   "metadata": {},
   "outputs": [],
   "source": [
    "LRModel.coef_"
   ]
  },
  {
   "cell_type": "code",
   "execution_count": null,
   "metadata": {},
   "outputs": [],
   "source": [
    "LRModel.intercept_"
   ]
  },
  {
   "cell_type": "code",
   "execution_count": null,
   "metadata": {},
   "outputs": [],
   "source": [
    "x_fit = np.linspace(0, 8)"
   ]
  },
  {
   "cell_type": "code",
   "execution_count": null,
   "metadata": {},
   "outputs": [],
   "source": [
    "X_fit = x_fit.reshape(-1,1)"
   ]
  },
  {
   "cell_type": "code",
   "execution_count": null,
   "metadata": {},
   "outputs": [],
   "source": [
    "X_fit"
   ]
  },
  {
   "cell_type": "code",
   "execution_count": null,
   "metadata": {},
   "outputs": [],
   "source": [
    "y_fit = LRModel.predict(X_fit)"
   ]
  },
  {
   "cell_type": "code",
   "execution_count": null,
   "metadata": {},
   "outputs": [],
   "source": [
    "y_fit"
   ]
  },
  {
   "cell_type": "code",
   "execution_count": null,
   "metadata": {},
   "outputs": [],
   "source": [
    "plt.figure(figsize = (10, 8))\n",
    "plt.scatter(df.petal_length.values, df.petal_width.values)\n",
    "plt.plot(x_fit, y_fit);"
   ]
  },
  {
   "cell_type": "markdown",
   "metadata": {},
   "source": [
    "# BOSTON Housong Project"
   ]
  },
  {
   "cell_type": "code",
   "execution_count": null,
   "metadata": {},
   "outputs": [],
   "source": [
    "bost = pd.read_csv(\"housing.data\", delim_whitespace=True, header= None)"
   ]
  },
  {
   "cell_type": "code",
   "execution_count": null,
   "metadata": {},
   "outputs": [],
   "source": [
    "bost.columns = [\"CrimePerCapita\",\n",
    "\"ResidZone\",\n",
    "\"IndusAcre\",\n",
    "\"CHARiver\",\n",
    "\"NOXConcent\",\n",
    "\"RoomAvg\",\n",
    "\"Age\",\n",
    "\"Dist_Center\",\n",
    "\"Axs_HW\",\n",
    "\"Tax\",\n",
    "\"Educ_ratio\",\n",
    "\"Blck\",\n",
    "\"LowStatus\",\n",
    "\"MedValue\"]"
   ]
  },
  {
   "cell_type": "code",
   "execution_count": null,
   "metadata": {},
   "outputs": [],
   "source": [
    "bost.head()"
   ]
  },
  {
   "cell_type": "code",
   "execution_count": null,
   "metadata": {},
   "outputs": [],
   "source": [
    "bost.describe()"
   ]
  },
  {
   "cell_type": "code",
   "execution_count": null,
   "metadata": {},
   "outputs": [],
   "source": [
    "sns.pairplot(bost[[\"Educ_ratio\", \"Blck\", \"LowStatus\",\"MedValue\"]])"
   ]
  },
  {
   "cell_type": "code",
   "execution_count": null,
   "metadata": {},
   "outputs": [],
   "source": [
    "bost.corr()"
   ]
  },
  {
   "cell_type": "code",
   "execution_count": null,
   "metadata": {},
   "outputs": [],
   "source": [
    "plt.figure(figsize=(10,8))\n",
    "sns.heatmap(bost.corr(), annot=True)"
   ]
  },
  {
   "cell_type": "code",
   "execution_count": null,
   "metadata": {},
   "outputs": [],
   "source": [
    "ind= 5\n",
    "# strong diff : 0 1 7 8 10 \n",
    "# weak diff : 2 5 6 9 11 12\n",
    "# exclude : 3 4\n",
    "X = bost.iloc[:,ind].values.reshape(-1,1)\n",
    "y = bost.MedValue.values\n",
    "\n",
    "X_train, X_test, y_train,y_test = train_test_split(X,y,test_size=0.2, random_state=0)\n",
    "LRModel.fit(X_train,y_train)\n",
    "RSCModel.fit(X_train,y_train)\n",
    "inliers = RSCModel.inlier_mask_\n",
    "outliers = np.logical_not(inliers)\n",
    "\n",
    "r_range = np.arange(bost.iloc[:,ind].min(),bost.iloc[:,ind].max(),1)\n",
    "LR_r_y= LRModel.predict(r_range.reshape(-1,1))\n",
    "RCS_r_y= RSCModel.predict(r_range.reshape(-1,1))\n",
    "LR_train_y=LRModel.predict(X_train)\n",
    "RSC_train_y=RSCModel.predict(X_train)\n",
    "LR_test_y=LRModel.predict(X_test)\n",
    "RSC_test_y=RSCModel.predict(X_test)\n",
    "\n",
    "print(\"Coef LR: \",LRModel.coef_)\n",
    "print(\"Intercept LR: \",LRModel.intercept_)\n",
    "print(\"Coef RSC: \",RSCModel.estimator_.coef_)\n",
    "print(\"Intercept RSC: \",RSCModel.estimator_.intercept_)\n",
    "print(\"MSE LR Train: \",mean_squared_error(y_train, LR_train_y));\n",
    "print(\"MSE RSC Train: \",mean_squared_error(y_train, RSC_train_y));\n",
    "print(\"MSE LR Test: \",mean_squared_error(y_test, LR_test_y));\n",
    "print(\"MSE RSC Test: \",mean_squared_error(y_test, RSC_test_y));\n",
    "print(\"R² LR Train: \",r2_score(y_train, LR_train_y));\n",
    "print(\"R² RSC Train: \",r2_score(y_train, RSC_train_y));\n",
    "print(\"R² LR Test: \",r2_score(y_test, LR_test_y));\n",
    "print(\"R² RSC Test: \",r2_score(y_test, RSC_test_y));\n",
    "\n",
    "plt.figure(figsize=(12,10))\n",
    "plt.scatter(X_train[inliers], y_train[inliers], c=\"black\", marker=\"*\", label=\"Inliers\")\n",
    "plt.scatter(X_train[outliers], y_train[outliers], c=\"yellow\", marker=\"*\", label=\"Ouliers\")\n",
    "plt.plot(r_range,RSC_y, color=\"red\")\n",
    "plt.plot(r_range,LR_y, color=\"blue\")\n",
    "plt.xlabel(\"Medium Price\")\n",
    "plt.ylabel(bost.columns[ind])\n",
    "plt.legend()\n",
    "plt.figure(figsize=(12,8))\n",
    "plt.scatter(LR_train_y, LR_train_y - y_train, c='blue', marker='o', label='Training data')\n",
    "plt.scatter(LR_test_y, LR_test_y - y_test, c='orange', marker='*', label='Test data')\n",
    "plt.xlabel('LM Predicted values')\n",
    "plt.ylabel('Residuals')\n",
    "plt.legend(loc='upper left')\n",
    "#plt.hlines(y=0, xmin=-10, xmax=50, lw=2, color='k')\n",
    "#plt.xlim([-10, 50])\n",
    "plt.show()\n",
    "plt.figure(figsize=(12,8))\n",
    "plt.scatter(RSC_train_y, RSC_train_y - y_train, c='blue', marker='o', label='Training data')\n",
    "plt.scatter(RSC_test_y, RSC_test_y - y_test, c='orange', marker='*', label='Test data')\n",
    "plt.xlabel('RSC Predicted values')\n",
    "plt.ylabel('Residuals')\n",
    "plt.legend(loc='upper left')\n",
    "plt.show()"
   ]
  },
  {
   "cell_type": "code",
   "execution_count": null,
   "metadata": {},
   "outputs": [],
   "source": [
    "bost_const = sm.add_constant(bost.iloc[:,:-1])\n",
    "bost_target = bost.iloc[:,-1:].values"
   ]
  },
  {
   "cell_type": "code",
   "execution_count": null,
   "metadata": {},
   "outputs": [],
   "source": [
    "bost_target"
   ]
  },
  {
   "cell_type": "code",
   "execution_count": null,
   "metadata": {},
   "outputs": [],
   "source": [
    "model = sm.OLS(bost_target, bost_const)\n",
    "LR = model.fit()\n",
    "LR.summary()"
   ]
  },
  {
   "cell_type": "code",
   "execution_count": null,
   "metadata": {},
   "outputs": [],
   "source": [
    "fmodel = smf.ols(formula = 'MedValue ~ CrimePerCapita + ResidZone + IndusAcre + CHARiver + RoomAvg + Age + Dist_Center + Axs_HW + Tax + Educ_ratio + Blck + LowStatus',\n",
    "                data=bost)\n",
    "LRf = fmodel.fit()\n",
    "LRf.summary()"
   ]
  },
  {
   "cell_type": "code",
   "execution_count": null,
   "metadata": {},
   "outputs": [],
   "source": [
    "r2_score(bost_target, LRf.predict(bost))"
   ]
  },
  {
   "cell_type": "code",
   "execution_count": null,
   "metadata": {},
   "outputs": [],
   "source": [
    "pd.options.display.float_format = '{:,.4f}'.format\n",
    "bost_corr = bost.corr()\n",
    "bost_corr"
   ]
  },
  {
   "cell_type": "code",
   "execution_count": null,
   "metadata": {},
   "outputs": [],
   "source": [
    "bost_corr[np.abs(bost_corr) <= 0.7] = 0\n",
    "bost_corr\n",
    "plt.figure(figsize=(16,10))\n",
    "sns.heatmap(bost_corr, annot=True, cmap='YlGnBu')\n",
    "plt.show()"
   ]
  },
  {
   "cell_type": "code",
   "execution_count": null,
   "metadata": {},
   "outputs": [],
   "source": [
    "eigenvalues, eigenvectors = np.linalg.eig(bost.corr())\n",
    "pd.Series(eigenvalues).sort_values()"
   ]
  },
  {
   "cell_type": "code",
   "execution_count": null,
   "metadata": {},
   "outputs": [],
   "source": [
    "np.abs(pd.Series(eigenvectors[:,8])).sort_values(ascending=False)"
   ]
  },
  {
   "cell_type": "code",
   "execution_count": null,
   "metadata": {},
   "outputs": [],
   "source": [
    "print(bost.columns[2], bost.columns[8], bost.columns[9])"
   ]
  },
  {
   "cell_type": "code",
   "execution_count": null,
   "metadata": {},
   "outputs": [],
   "source": [
    "model = LinearRegression()\n",
    "model.fit(bost.iloc[:,:-1],bost_target)\n",
    "model.coef_"
   ]
  },
  {
   "cell_type": "code",
   "execution_count": null,
   "metadata": {},
   "outputs": [],
   "source": [
    "scaler = StandardScaler()  \n",
    "Stand_coef_linear_reg = make_pipeline(scaler, model)"
   ]
  },
  {
   "cell_type": "code",
   "execution_count": null,
   "metadata": {},
   "outputs": [],
   "source": [
    "Stand_coef_linear_reg.fit(bost.iloc[:,:-1],bost_target)\n",
    "Stand_coef_linear_reg.steps[1][1].coef_"
   ]
  },
  {
   "cell_type": "raw",
   "metadata": {},
   "source": [
    "Plynomial Regression"
   ]
  },
  {
   "cell_type": "code",
   "execution_count": null,
   "metadata": {},
   "outputs": [],
   "source": [
    "X_boston = bost['Dist_Center'].values\n",
    "y_boston = bost['NOXConcent'].values"
   ]
  },
  {
   "cell_type": "code",
   "execution_count": null,
   "metadata": {},
   "outputs": [],
   "source": [
    "lr = LinearRegression()\n",
    "lr.fit(X_boston.reshape(-1, 1), y_boston)\n",
    "model_pred = lr.predict(X_boston.reshape(-1,1))\n",
    "plt.figure(figsize=(12,8))\n",
    "plt.scatter(X_boston, y_boston);\n",
    "plt.plot(X_boston, model_pred);\n",
    "print(\"R^2 score = {:.2f}\".format(r2_score(y_boston, model_pred)))\n"
   ]
  },
  {
   "cell_type": "code",
   "execution_count": null,
   "metadata": {},
   "outputs": [],
   "source": [
    "poly_reg = PolynomialFeatures(degree=3)\n",
    "X_poly_b = poly_reg.fit_transform(X_boston.reshape(-1, 1))\n",
    "lin_reg_2 = LinearRegression()\n",
    "lin_reg_2.fit(X_poly_b, y_boston)"
   ]
  },
  {
   "cell_type": "code",
   "execution_count": null,
   "metadata": {},
   "outputs": [],
   "source": [
    "X_fit = np.arange(X_boston.min(), X_boston.max(), 1)[:, np.newaxis]"
   ]
  },
  {
   "cell_type": "code",
   "execution_count": null,
   "metadata": {},
   "outputs": [],
   "source": [
    "y_pred = lin_reg_2.predict(poly_reg.fit_transform(X_fit.reshape(-1,1)))"
   ]
  },
  {
   "cell_type": "code",
   "execution_count": null,
   "metadata": {},
   "outputs": [],
   "source": [
    "plt.figure(figsize=(10,8));\n",
    "plt.scatter(X_boston, y_boston);\n",
    "plt.plot(X_fit, y_pred);\n",
    "print(\"R^2 score = {:.2f}\".format(r2_score(y_boston, \n",
    "                                          lin_reg_2.predict(X_poly_b))))"
   ]
  },
  {
   "cell_type": "code",
   "execution_count": null,
   "metadata": {},
   "outputs": [],
   "source": []
  },
  {
   "cell_type": "markdown",
   "metadata": {},
   "source": [
    "# Seaborn Visualisation"
   ]
  },
  {
   "cell_type": "code",
   "execution_count": null,
   "metadata": {},
   "outputs": [],
   "source": [
    "sns.jointplot(x='LowStatus',y='MedValue',data=bost, kind='reg', height = 10)"
   ]
  },
  {
   "cell_type": "code",
   "execution_count": null,
   "metadata": {},
   "outputs": [],
   "source": [
    "sns.regplot(X,y)"
   ]
  }
 ],
 "metadata": {
  "kernelspec": {
   "display_name": "Python 3",
   "language": "python",
   "name": "python3"
  },
  "language_info": {
   "codemirror_mode": {
    "name": "ipython",
    "version": 3
   },
   "file_extension": ".py",
   "mimetype": "text/x-python",
   "name": "python",
   "nbconvert_exporter": "python",
   "pygments_lexer": "ipython3",
   "version": "3.7.3"
  }
 },
 "nbformat": 4,
 "nbformat_minor": 2
}
